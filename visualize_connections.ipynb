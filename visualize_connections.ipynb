{
 "cells": [
  {
   "cell_type": "code",
   "execution_count": 1,
   "id": "c33868d4",
   "metadata": {},
   "outputs": [
    {
     "name": "stdout",
     "output_type": "stream",
     "text": [
      "Welcome to JupyROOT 6.22/09\n"
     ]
    }
   ],
   "source": [
    "import sys\n",
    "sys.path += ['', '/home/users/phchang/work/lst/LSTStudy/LSTPython/TrackLooper/src/rooutil', '/home/users/phchang/work/lst/LSTGeometry', '/home/users/phchang/miniconda3/envs/analysisenv/lib/python39.zip', '/home/users/phchang/miniconda3/envs/analysisenv/lib/python3.9', '/home/users/phchang/miniconda3/envs/analysisenv/lib/python3.9/lib-dynload', '/home/users/phchang/miniconda3/envs/analysisenv/lib/python3.9/site-packages']\n",
    "import plotly\n",
    "import plotly.graph_objs as go\n",
    "import plotly.express as px\n",
    "import pprint\n",
    "import json\n",
    "from DetectorGeometry import DetectorGeometry\n",
    "from Centroid import Centroid\n",
    "from Connection import Connection\n",
    "from Module import Module\n",
    "from Visualization import *\n",
    "\n",
    "from IPython.core.display import display, HTML\n",
    "# display(HTML(\"<style>.container { width:100% !important; }</style>\"))"
   ]
  },
  {
   "cell_type": "code",
   "execution_count": 2,
   "id": "88bfe370",
   "metadata": {},
   "outputs": [
    {
     "name": "stderr",
     "output_type": "stream",
     "text": [
      "Loading detector geometries (i.e. boundaries): 100%|████████████████████████████████████████████████████████████████████████████████████████████████████████████████████████████████████████████████████████████████████████████████████████████| 26400/26400 [00:00<00:00, 97343.53it/s]\n",
      "Loading centroid data: 100%|███████████████████████████████████████████████████████████████████████████████████████████████████████████████████████████████████████████████████████████████████████████████████████████████████████████████████| 26400/26400 [00:00<00:00, 397119.50it/s]\n",
      "Loading connection data: 100%|███████████████████████████████████████████████████████████████████████████████████████████████████████████████████████████████████████████████████████████████████████████████████████████████████████████████████| 9656/9656 [00:00<00:00, 161149.28it/s]\n"
     ]
    }
   ],
   "source": [
    "# Opening detector geometry related files\n",
    "geom = DetectorGeometry(\"data/CMSSW_12_2_0_pre2_geom.txt\")\n",
    "cent = Centroid(\"data/centroid.txt\")\n",
    "conn = Connection(\"data/module_connection_tracing_merged.txt\")"
   ]
  },
  {
   "cell_type": "code",
   "execution_count": 3,
   "id": "e7ef3b14",
   "metadata": {},
   "outputs": [],
   "source": [
    "all_detids = list(geom.getDetIds(lambda x: Module(x[0]).isLower()==1))\n",
    "reference_detid = list(geom.getDetIds(lambda x:\n",
    "                                      Module(x[0]).isLower()==1 and\n",
    "                                      Module(x[0]).layer()==1 and\n",
    "                                      Module(x[0]).module()==1 and\n",
    "                                      Module(x[0]).subdet()==5 and\n",
    "                                      Module(x[0]).side()==3\n",
    "                                     ))\n",
    "detid = reference_detid[0]"
   ]
  },
  {
   "cell_type": "code",
   "execution_count": 4,
   "id": "a0344640",
   "metadata": {},
   "outputs": [],
   "source": [
    "reference_mod = get_modules_goScatter3D([detid], geom)\n",
    "reference_mod['line']['color'] = 'rgb(255,0,255,0.5)'\n",
    "connected_mods = get_modules_goScatter3D(conn.getConnection(detid), geom)\n",
    "connected_mods['line']['color'] = 'rgb(0,255,255,0.5)'\n",
    "all_mods = get_modules_goScatter3D(all_detids, geom)\n",
    "all_mods['line']['color'] = 'rgb(150,150,0,0.1)'\n",
    "all_mods['line']['width'] = 0.1"
   ]
  },
  {
   "cell_type": "code",
   "execution_count": 5,
   "id": "0f2dfb06",
   "metadata": {},
   "outputs": [],
   "source": [
    "create_figure([all_mods, reference_mod, connected_mods], \"connection.html\")"
   ]
  },
  {
   "cell_type": "code",
   "execution_count": null,
   "id": "8e95d9f6",
   "metadata": {},
   "outputs": [],
   "source": []
  }
 ],
 "metadata": {
  "kernelspec": {
   "display_name": "Python 3 (ipykernel)",
   "language": "python",
   "name": "python3"
  },
  "language_info": {
   "codemirror_mode": {
    "name": "ipython",
    "version": 3
   },
   "file_extension": ".py",
   "mimetype": "text/x-python",
   "name": "python",
   "nbconvert_exporter": "python",
   "pygments_lexer": "ipython3",
   "version": "3.9.6"
  }
 },
 "nbformat": 4,
 "nbformat_minor": 5
}
